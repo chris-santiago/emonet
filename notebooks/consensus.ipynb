{
 "cells": [
  {
   "cell_type": "code",
   "execution_count": 6,
   "id": "439221cd-1ea3-4aec-8ec9-3865004e0e88",
   "metadata": {},
   "outputs": [],
   "source": [
    "import pandas as pd\n",
    "\n",
    "from emonet import DATA_DIR, THERAPISTS\n",
    "from emonet.data_prep import from_json, to_records"
   ]
  },
  {
   "cell_type": "code",
   "execution_count": 160,
   "id": "4d632632-9437-4f59-b4b3-b7f8dd48356d",
   "metadata": {},
   "outputs": [
    {
     "data": {
      "text/html": [
       "<div>\n",
       "<style scoped>\n",
       "    .dataframe tbody tr th:only-of-type {\n",
       "        vertical-align: middle;\n",
       "    }\n",
       "\n",
       "    .dataframe tbody tr th {\n",
       "        vertical-align: top;\n",
       "    }\n",
       "\n",
       "    .dataframe thead th {\n",
       "        text-align: right;\n",
       "    }\n",
       "</style>\n",
       "<table border=\"1\" class=\"dataframe\">\n",
       "  <thead>\n",
       "    <tr style=\"text-align: right;\">\n",
       "      <th></th>\n",
       "      <th>key</th>\n",
       "      <th>duration</th>\n",
       "      <th>therapist</th>\n",
       "      <th>fear</th>\n",
       "      <th>anger</th>\n",
       "      <th>happy</th>\n",
       "      <th>neutral</th>\n",
       "      <th>sadness</th>\n",
       "    </tr>\n",
       "  </thead>\n",
       "  <tbody>\n",
       "    <tr>\n",
       "      <th>0</th>\n",
       "      <td>1173_GM1001_1326493712</td>\n",
       "      <td>75.324687</td>\n",
       "      <td>Michelle Lyn</td>\n",
       "      <td>low</td>\n",
       "      <td>low</td>\n",
       "      <td>medium</td>\n",
       "      <td>none</td>\n",
       "      <td>low</td>\n",
       "    </tr>\n",
       "    <tr>\n",
       "      <th>1</th>\n",
       "      <td>1173_GM1001_434684536</td>\n",
       "      <td>25.440000</td>\n",
       "      <td>Michelle Lyn</td>\n",
       "      <td>high</td>\n",
       "      <td>none</td>\n",
       "      <td>low</td>\n",
       "      <td>medium</td>\n",
       "      <td>none</td>\n",
       "    </tr>\n",
       "    <tr>\n",
       "      <th>2</th>\n",
       "      <td>1173_KH1001_3032271714</td>\n",
       "      <td>57.474000</td>\n",
       "      <td>Michelle Lyn</td>\n",
       "      <td>low</td>\n",
       "      <td>low</td>\n",
       "      <td>medium</td>\n",
       "      <td>none</td>\n",
       "      <td>low</td>\n",
       "    </tr>\n",
       "    <tr>\n",
       "      <th>3</th>\n",
       "      <td>1173_KH1001_765576337</td>\n",
       "      <td>62.180687</td>\n",
       "      <td>Michelle Lyn</td>\n",
       "      <td>low</td>\n",
       "      <td>low</td>\n",
       "      <td>none</td>\n",
       "      <td>none</td>\n",
       "      <td>none</td>\n",
       "    </tr>\n",
       "    <tr>\n",
       "      <th>4</th>\n",
       "      <td>1173_NM1001_2147987829</td>\n",
       "      <td>51.924000</td>\n",
       "      <td>Michelle Lyn</td>\n",
       "      <td>low</td>\n",
       "      <td>high</td>\n",
       "      <td>none</td>\n",
       "      <td>low</td>\n",
       "      <td>medium</td>\n",
       "    </tr>\n",
       "    <tr>\n",
       "      <th>...</th>\n",
       "      <td>...</td>\n",
       "      <td>...</td>\n",
       "      <td>...</td>\n",
       "      <td>...</td>\n",
       "      <td>...</td>\n",
       "      <td>...</td>\n",
       "      <td>...</td>\n",
       "      <td>...</td>\n",
       "    </tr>\n",
       "    <tr>\n",
       "      <th>4203</th>\n",
       "      <td>9926_39117_852367505</td>\n",
       "      <td>36.360000</td>\n",
       "      <td>Yared Alemu</td>\n",
       "      <td>medium</td>\n",
       "      <td>medium</td>\n",
       "      <td>none</td>\n",
       "      <td>none</td>\n",
       "      <td>medium</td>\n",
       "    </tr>\n",
       "    <tr>\n",
       "      <th>4204</th>\n",
       "      <td>9926_39117_896761626</td>\n",
       "      <td>34.307375</td>\n",
       "      <td>Yared Alemu</td>\n",
       "      <td>medium</td>\n",
       "      <td>low</td>\n",
       "      <td>none</td>\n",
       "      <td>none</td>\n",
       "      <td>medium</td>\n",
       "    </tr>\n",
       "    <tr>\n",
       "      <th>4205</th>\n",
       "      <td>9926_39117_941005323</td>\n",
       "      <td>38.820000</td>\n",
       "      <td>Yared Alemu</td>\n",
       "      <td>medium</td>\n",
       "      <td>medium</td>\n",
       "      <td>none</td>\n",
       "      <td>none</td>\n",
       "      <td>high</td>\n",
       "    </tr>\n",
       "    <tr>\n",
       "      <th>4206</th>\n",
       "      <td>9926_39117_948319469</td>\n",
       "      <td>36.948687</td>\n",
       "      <td>Yared Alemu</td>\n",
       "      <td>high</td>\n",
       "      <td>medium</td>\n",
       "      <td>none</td>\n",
       "      <td>none</td>\n",
       "      <td>high</td>\n",
       "    </tr>\n",
       "    <tr>\n",
       "      <th>4207</th>\n",
       "      <td>P18003_TH18001_2729882109</td>\n",
       "      <td>19.372688</td>\n",
       "      <td>Yared Alemu</td>\n",
       "      <td>NaN</td>\n",
       "      <td>NaN</td>\n",
       "      <td>NaN</td>\n",
       "      <td>NaN</td>\n",
       "      <td>NaN</td>\n",
       "    </tr>\n",
       "  </tbody>\n",
       "</table>\n",
       "<p>4208 rows × 8 columns</p>\n",
       "</div>"
      ],
      "text/plain": [
       "                            key   duration     therapist    fear   anger  \\\n",
       "0        1173_GM1001_1326493712  75.324687  Michelle Lyn     low     low   \n",
       "1         1173_GM1001_434684536  25.440000  Michelle Lyn    high    none   \n",
       "2        1173_KH1001_3032271714  57.474000  Michelle Lyn     low     low   \n",
       "3         1173_KH1001_765576337  62.180687  Michelle Lyn     low     low   \n",
       "4        1173_NM1001_2147987829  51.924000  Michelle Lyn     low    high   \n",
       "...                         ...        ...           ...     ...     ...   \n",
       "4203       9926_39117_852367505  36.360000   Yared Alemu  medium  medium   \n",
       "4204       9926_39117_896761626  34.307375   Yared Alemu  medium     low   \n",
       "4205       9926_39117_941005323  38.820000   Yared Alemu  medium  medium   \n",
       "4206       9926_39117_948319469  36.948687   Yared Alemu    high  medium   \n",
       "4207  P18003_TH18001_2729882109  19.372688   Yared Alemu     NaN     NaN   \n",
       "\n",
       "       happy neutral sadness  \n",
       "0     medium    none     low  \n",
       "1        low  medium    none  \n",
       "2     medium    none     low  \n",
       "3       none    none    none  \n",
       "4       none     low  medium  \n",
       "...      ...     ...     ...  \n",
       "4203    none    none  medium  \n",
       "4204    none    none  medium  \n",
       "4205    none    none    high  \n",
       "4206    none    none    high  \n",
       "4207     NaN     NaN     NaN  \n",
       "\n",
       "[4208 rows x 8 columns]"
      ]
     },
     "execution_count": 160,
     "metadata": {},
     "output_type": "execute_result"
    }
   ],
   "source": [
    "meta = from_json(DATA_DIR.joinpath('metadata.json'))\n",
    "labels = pd.DataFrame.from_records(to_records(meta))\n",
    "labels"
   ]
  },
  {
   "cell_type": "code",
   "execution_count": 161,
   "id": "83310c50-309c-4514-8e6b-4a75ac24dc96",
   "metadata": {},
   "outputs": [],
   "source": [
    "def rated_same(meta, key, emotion, quorum=3):\n",
    "    raters = [t for t in THERAPISTS if t in meta[key].keys()]\n",
    "    if len(raters) > quorum:\n",
    "        return len(set([meta[key].get(t, 'n/a')[emotion] for t in raters])) == 1\n",
    "    return False"
   ]
  },
  {
   "cell_type": "code",
   "execution_count": 162,
   "id": "f9ab6baf-bd52-412b-9d66-ecdf0cb85b58",
   "metadata": {},
   "outputs": [
    {
     "data": {
      "text/plain": [
       "False"
      ]
     },
     "execution_count": 162,
     "metadata": {},
     "output_type": "execute_result"
    }
   ],
   "source": [
    "rated_same(meta, '1173_GM1001_1326493712', 'anger')"
   ]
  },
  {
   "cell_type": "code",
   "execution_count": 163,
   "id": "c64c44d4-4189-47b5-97fa-77525127c12b",
   "metadata": {},
   "outputs": [],
   "source": [
    "def get_consensus_keys(meta, emotion, quorum=3):\n",
    "    keys = list(meta.keys())\n",
    "    agree = [rated_same(meta, k, emotion, quorum) for k in keys]\n",
    "    return [k for i, k in enumerate(keys) if agree[i]]\n",
    "    "
   ]
  },
  {
   "cell_type": "code",
   "execution_count": 164,
   "id": "3cf9bd8e-0254-432c-83e5-8f38834ee92f",
   "metadata": {},
   "outputs": [
    {
     "data": {
      "text/plain": [
       "['4205_39117_3395725370', '4403_39117_1568678400', '54205_53113_1587945600']"
      ]
     },
     "execution_count": 164,
     "metadata": {},
     "output_type": "execute_result"
    }
   ],
   "source": [
    "get_consensus_keys(meta, 'anger')"
   ]
  },
  {
   "cell_type": "code",
   "execution_count": 165,
   "id": "2fbecf5b-8c6d-4934-a31e-e00394ffc016",
   "metadata": {},
   "outputs": [],
   "source": [
    "def consensus(meta, quorum=3):\n",
    "    consensus = {}\n",
    "    for emotion in ['anger', 'fear', 'sadness']:\n",
    "        consensus[emotion] = get_consensus_keys(meta, emotion, quorum)\n",
    "    return consensus"
   ]
  },
  {
   "cell_type": "code",
   "execution_count": 176,
   "id": "cdd4fa36-c743-417c-a008-1db99e973b4d",
   "metadata": {},
   "outputs": [
    {
     "data": {
      "text/plain": [
       "{'anger': ['1940_39117_3957491636',\n",
       "  '4205_39117_3395725370',\n",
       "  '4403_39117_1568678400',\n",
       "  '54205_53113_1587945600',\n",
       "  '6531_53113_1588204800',\n",
       "  '6531_53113_1588809600',\n",
       "  '8161_39117_1219643178',\n",
       "  '8161_39117_3344890079',\n",
       "  '8161_39117_3355640551',\n",
       "  '8161_39117_3423956819',\n",
       "  '8161_39117_592551866'],\n",
       " 'fear': ['150648_35465_1569974400',\n",
       "  '3789_53113_1587081600',\n",
       "  '4205_39117_2876564785',\n",
       "  '4205_39117_3390161853',\n",
       "  '4403_39117_1593388800',\n",
       "  '4644_53113_1596412800',\n",
       "  '4645_53113_1603670400',\n",
       "  '46791_53796_1568332800',\n",
       "  '52756_53113_1576454400',\n",
       "  '52756_53113_1577059200',\n",
       "  '54205_53113_1587945600',\n",
       "  '55119_53113_1570492800',\n",
       "  '6461_39117_1075533122',\n",
       "  '6461_39117_3385805924',\n",
       "  '6461_39117_541825201',\n",
       "  '6461_39117_744390683',\n",
       "  '7010_53113_1574294400',\n",
       "  '8161_39117_1219643178',\n",
       "  '8161_39117_2379070509',\n",
       "  '8161_39117_2794214016',\n",
       "  '8161_39117_3355640551',\n",
       "  '8161_39117_33944129',\n",
       "  '8161_39117_863047773',\n",
       "  '8646_53113_4289373464',\n",
       "  '8953_39117_1631602027',\n",
       "  '8953_39117_3520844561',\n",
       "  '9373_39117_2001823577',\n",
       "  '9373_39117_2900254481',\n",
       "  '9373_39117_4068318732'],\n",
       " 'sadness': ['140406_53113_1568246400',\n",
       "  '140406_53113_1568764800',\n",
       "  '140406_53113_1574812800',\n",
       "  '1521_SRC1001_447260487',\n",
       "  '3789_53113_1587686400',\n",
       "  '3789_53113_1589500800',\n",
       "  '4205_39117_1589500800',\n",
       "  '4205_39117_180020732',\n",
       "  '4205_39117_208174457',\n",
       "  '4205_39117_3912373575',\n",
       "  '4403_39117_1568678400',\n",
       "  '4493_53113_1578268800',\n",
       "  '4538_53113_1575590400',\n",
       "  '4538_53113_1576454400',\n",
       "  '4538_53113_1592956800',\n",
       "  '4538_53113_1595808000',\n",
       "  '4538_53113_1601424000',\n",
       "  '4644_53113_1586304000',\n",
       "  '4644_53113_1587081600',\n",
       "  '4644_53113_1595894400',\n",
       "  '4644_53113_1601856000',\n",
       "  '4645_53113_1587600000',\n",
       "  '4645_53113_1594598400',\n",
       "  '4645_53113_1603065600',\n",
       "  '4645_53113_1603670400',\n",
       "  '4645_53113_1604275200',\n",
       "  '46791_53796_1571270400',\n",
       "  '46791_53796_1571356800',\n",
       "  '47226_35465_1569196800',\n",
       "  '47339_35465_1568851200',\n",
       "  '47339_35465_1578528000',\n",
       "  '4750_53113_1586304000',\n",
       "  '4911_53113_1570665600',\n",
       "  '4911_53113_1580342400',\n",
       "  '49743_53796_1568073600',\n",
       "  '49743_53796_1568160000',\n",
       "  '49743_53796_1571270400',\n",
       "  '52757_53113_1577059200',\n",
       "  '53490_53113_1573516800',\n",
       "  '53490_53113_1575504000',\n",
       "  '53490_53113_1578528000',\n",
       "  '53490_53113_1579132800',\n",
       "  '5370_39117_1232987243',\n",
       "  '5370_39117_1382660192',\n",
       "  '5370_39117_3483817141',\n",
       "  '53842_35465_1568073600',\n",
       "  '53842_35465_1574208000',\n",
       "  '53842_35465_1575244800',\n",
       "  '55119_53113_1568073600',\n",
       "  '55119_53113_1569283200',\n",
       "  '55119_53113_1572307200',\n",
       "  '56838_53113_1578873600',\n",
       "  '6382_53113_1570406400',\n",
       "  '6382_53113_1571184000',\n",
       "  '6382_53113_1572566400',\n",
       "  '6382_53113_1575849600',\n",
       "  '6382_53113_1576454400',\n",
       "  '6461_39117_1478333273',\n",
       "  '6461_39117_1694199414',\n",
       "  '6461_39117_1716651845',\n",
       "  '6461_39117_1793458855',\n",
       "  '6461_39117_1822202867',\n",
       "  '6461_39117_2048515518',\n",
       "  '6461_39117_2056222115',\n",
       "  '6461_39117_2062710860',\n",
       "  '6461_39117_2929109933',\n",
       "  '6529_53113_1602547200',\n",
       "  '6529_53113_1603065600',\n",
       "  '6529_53113_1604880000',\n",
       "  '6529_53113_3605013943',\n",
       "  '6529_53113_796958430',\n",
       "  '6531_53113_1589414400',\n",
       "  '6709_53113_1570752000',\n",
       "  '6709_53113_1588291200',\n",
       "  '6709_53113_1590537600',\n",
       "  '6709_53113_1593129600',\n",
       "  '7010_53113_1568851200',\n",
       "  '7010_53113_1569456000',\n",
       "  '7010_53113_1573084800',\n",
       "  '7010_53113_1573516800',\n",
       "  '7010_53113_1574294400',\n",
       "  '7010_53113_1575504000',\n",
       "  '7010_53113_1579737600',\n",
       "  '7010_53113_1581552000',\n",
       "  '71291_72285_4242250144',\n",
       "  '73040_72285_1720642520',\n",
       "  '73040_72285_3156843560',\n",
       "  '73635_66945_1535173726',\n",
       "  '73635_66945_2410801110',\n",
       "  '8161_39117_1260543253',\n",
       "  '8161_39117_1447942092',\n",
       "  '8161_39117_1706342577',\n",
       "  '8161_39117_3344890079',\n",
       "  '8161_39117_420500410',\n",
       "  '8448_53113_1597190400',\n",
       "  '8448_53113_1597795200',\n",
       "  '8841_39117_823169032']}"
      ]
     },
     "execution_count": 176,
     "metadata": {},
     "output_type": "execute_result"
    }
   ],
   "source": [
    "con2 = consensus(meta, 2)\n",
    "con2"
   ]
  },
  {
   "cell_type": "code",
   "execution_count": 167,
   "id": "9f526f06-77ab-426a-a51e-6c24ca2d21cd",
   "metadata": {},
   "outputs": [],
   "source": [
    "def grab_score(meta, key):\n",
    "    for k, v in meta.items():\n",
    "        if k == key:\n",
    "            return v\n",
    "        if isinstance(v, dict):\n",
    "            result = grab_score(v, key)\n",
    "            if isinstance(result, str):\n",
    "                return result"
   ]
  },
  {
   "cell_type": "code",
   "execution_count": 168,
   "id": "5aaa988e-e0e7-4e73-a090-0ee97680abbe",
   "metadata": {},
   "outputs": [],
   "source": [
    "def grab_score_gen(meta, key):\n",
    "    for k, v in meta.items():\n",
    "        if k == key:\n",
    "            if isinstance(v, str):\n",
    "                yield v\n",
    "        if isinstance(v, dict):\n",
    "            for result in grab_score(v, key):\n",
    "                yield result"
   ]
  },
  {
   "cell_type": "code",
   "execution_count": 187,
   "id": "384d7158-d910-47f8-9fb2-86978ec09214",
   "metadata": {},
   "outputs": [],
   "source": [
    "scores = [grab_score(meta[key], 'anger') for key in con2['anger']]"
   ]
  },
  {
   "cell_type": "code",
   "execution_count": 188,
   "id": "a97f0b44-60ab-49c4-bb88-f087e063ecc0",
   "metadata": {},
   "outputs": [
    {
     "data": {
      "text/plain": [
       "11"
      ]
     },
     "execution_count": 188,
     "metadata": {},
     "output_type": "execute_result"
    }
   ],
   "source": [
    "len(scores)"
   ]
  },
  {
   "cell_type": "code",
   "execution_count": 189,
   "id": "6608d3e1-a393-43cb-aaaa-6600ea19fbd1",
   "metadata": {},
   "outputs": [
    {
     "data": {
      "text/plain": [
       "1052"
      ]
     },
     "execution_count": 189,
     "metadata": {},
     "output_type": "execute_result"
    }
   ],
   "source": [
    "len(meta)"
   ]
  },
  {
   "cell_type": "code",
   "execution_count": 190,
   "id": "ddfa280e-8848-4c17-8d85-9692dec20db7",
   "metadata": {},
   "outputs": [
    {
     "data": {
      "text/plain": [
       "['none',\n",
       " 'low',\n",
       " 'low',\n",
       " 'none',\n",
       " 'none',\n",
       " 'none',\n",
       " 'low',\n",
       " 'medium',\n",
       " 'low',\n",
       " 'low',\n",
       " 'low']"
      ]
     },
     "execution_count": 190,
     "metadata": {},
     "output_type": "execute_result"
    }
   ],
   "source": [
    "scores"
   ]
  },
  {
   "cell_type": "markdown",
   "id": "3986d4dc-5d02-4b85-a07b-cb43832c9e84",
   "metadata": {},
   "source": [
    "**There are no high scores (consensus=2) so label propagation is useless.**"
   ]
  },
  {
   "cell_type": "markdown",
   "id": "3cae00c8-d131-4b35-809a-552f5210319e",
   "metadata": {},
   "source": [
    "<hr>"
   ]
  },
  {
   "cell_type": "code",
   "execution_count": 68,
   "id": "5df85195-2742-4c51-9356-d3b5c1e42fab",
   "metadata": {},
   "outputs": [],
   "source": [
    "wav2vec = from_json(DATA_DIR.joinpath('wav2vec_splits.json'))"
   ]
  },
  {
   "cell_type": "code",
   "execution_count": 152,
   "id": "9cccbffa-1731-467e-9771-d56e5ec28d44",
   "metadata": {},
   "outputs": [
    {
     "data": {
      "text/plain": [
       "['8161_39117_3355640551',\n",
       " '6531_53113_1588204800',\n",
       " '8161_39117_1219643178',\n",
       " '4205_39117_3395725370',\n",
       " '8161_39117_3423956819',\n",
       " '54205_53113_1587945600',\n",
       " '6531_53113_1588809600',\n",
       " '8161_39117_592551866',\n",
       " '4403_39117_1568678400']"
      ]
     },
     "execution_count": 152,
     "metadata": {},
     "output_type": "execute_result"
    }
   ],
   "source": [
    "stems = set([x.split('--')[0] for x in wav2vec['train']['keys']])\n",
    "anger_keys = [x for x in stems if x in consensus(meta, 2)['anger']]\n",
    "anger_keys"
   ]
  },
  {
   "cell_type": "code",
   "execution_count": 158,
   "id": "1836a46a-e1e4-407f-9b6c-ffbac8bd7744",
   "metadata": {},
   "outputs": [
    {
     "data": {
      "text/plain": [
       "{'file_path': 'vad_wavs/6531_53113_1588204800.wav',\n",
       " 'file_name': '6531_53113_1588204800.wav',\n",
       " 'sample_rate': 16000,\n",
       " 'duration': 34.885375,\n",
       " 'stem': '6531_53113_1588204800',\n",
       " 'Sedara Burson': {'fear': 'none',\n",
       "  'anger': 'none',\n",
       "  'happy': 'none',\n",
       "  'neutral': 'high',\n",
       "  'sadness': 'none'},\n",
       " 'Michelle Lyn': {'fear': 'none',\n",
       "  'anger': 'none',\n",
       "  'happy': 'medium',\n",
       "  'neutral': 'high',\n",
       "  'sadness': 'none'},\n",
       " 'Yared Alemu': {'fear': 'low',\n",
       "  'anger': 'none',\n",
       "  'happy': 'none',\n",
       "  'neutral': 'none',\n",
       "  'sadness': 'low'},\n",
       " 'avg_score': {'anger': 0.0,\n",
       "  'fear': 0.3333333333333333,\n",
       "  'sadness': 0.3333333333333333}}"
      ]
     },
     "execution_count": 158,
     "metadata": {},
     "output_type": "execute_result"
    }
   ],
   "source": [
    "meta[anger_keys[1]]"
   ]
  },
  {
   "cell_type": "code",
   "execution_count": null,
   "id": "d121d4b3-7319-424c-ae50-7dde4e706bf0",
   "metadata": {},
   "outputs": [],
   "source": []
  }
 ],
 "metadata": {
  "kernelspec": {
   "display_name": "Python 3 (ipykernel)",
   "language": "python",
   "name": "python3"
  },
  "language_info": {
   "codemirror_mode": {
    "name": "ipython",
    "version": 3
   },
   "file_extension": ".py",
   "mimetype": "text/x-python",
   "name": "python",
   "nbconvert_exporter": "python",
   "pygments_lexer": "ipython3",
   "version": "3.9.13"
  }
 },
 "nbformat": 4,
 "nbformat_minor": 5
}
