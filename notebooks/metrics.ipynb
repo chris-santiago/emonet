{
 "cells": [
  {
   "cell_type": "code",
   "execution_count": 2,
   "id": "38d57057-a7e1-412c-8be4-46b8d2840754",
   "metadata": {},
   "outputs": [
    {
     "name": "stderr",
     "output_type": "stream",
     "text": [
      "/Users/christophersantiago/opt/miniconda3/envs/emonet2/lib/python3.9/site-packages/tqdm/auto.py:22: TqdmWarning: IProgress not found. Please update jupyter and ipywidgets. See https://ipywidgets.readthedocs.io/en/stable/user_install.html\n",
      "  from .autonotebook import tqdm as notebook_tqdm\n"
     ]
    }
   ],
   "source": [
    "import torch\n",
    "from torchmetrics.functional import (\n",
    "    accuracy, f1_score, matthews_corrcoef, average_precision, label_ranking_loss, stat_scores, precision, specificity\n",
    ")"
   ]
  },
  {
   "cell_type": "code",
   "execution_count": 3,
   "id": "9e65daaf-6d42-4fef-853c-0975581d8c77",
   "metadata": {},
   "outputs": [],
   "source": [
    "n = 10_000\n",
    "\n",
    "truth = torch.empty(n).bernoulli(.82).long()\n",
    "preds = torch.ones(n)"
   ]
  },
  {
   "cell_type": "code",
   "execution_count": 69,
   "id": "6dadd5f5-2152-41eb-bcf5-cd802aeb26b8",
   "metadata": {},
   "outputs": [
    {
     "name": "stdout",
     "output_type": "stream",
     "text": [
      "Accuracy-micro: 0.8274000287055969\n",
      "Accuracy-macro: 0.8274000287055969\n",
      "Accuracy-weighted: 0.8274000287055969\n",
      "Accuracy-none: 0.8274000287055969\n"
     ]
    }
   ],
   "source": [
    "for avg in ['micro', 'macro', 'weighted', 'none']:\n",
    "    print(f'Accuracy-{avg}: {accuracy(preds, truth)}')"
   ]
  },
  {
   "cell_type": "code",
   "execution_count": 70,
   "id": "83ad5e88-bab4-4caf-b023-03790f1dad50",
   "metadata": {},
   "outputs": [
    {
     "name": "stdout",
     "output_type": "stream",
     "text": [
      "F1 Score-micro: 0.9055489301681519\n",
      "F1 Score-macro: 0.9055489301681519\n",
      "F1 Score-weighted: 0.9055489301681519\n",
      "F1 Score-none: 0.9055489301681519\n"
     ]
    }
   ],
   "source": [
    "for avg in ['micro', 'macro', 'weighted', 'none']:\n",
    "    print(f'F1 Score-{avg}: {f1_score(preds, truth)}')"
   ]
  },
  {
   "cell_type": "code",
   "execution_count": 71,
   "id": "624c611c-45e3-452c-bf23-278046fde82d",
   "metadata": {},
   "outputs": [
    {
     "name": "stdout",
     "output_type": "stream",
     "text": [
      "Average Precision-micro: 0.8274000287055969\n",
      "Average Precision-macro: 0.8274000287055969\n",
      "Average Precision-weighted: 0.8274000287055969\n",
      "Average Precision-none: 0.8274000287055969\n"
     ]
    }
   ],
   "source": [
    "for avg in ['micro', 'macro', 'weighted', 'none']:\n",
    "    print(f'Average Precision-{avg}: {average_precision(preds, truth)}')"
   ]
  },
  {
   "cell_type": "code",
   "execution_count": 72,
   "id": "7951fc15-a80f-47e1-9b16-66d02dcf9b7b",
   "metadata": {},
   "outputs": [
    {
     "data": {
      "text/plain": [
       "tensor(0)"
      ]
     },
     "execution_count": 72,
     "metadata": {},
     "output_type": "execute_result"
    }
   ],
   "source": [
    "matthews_corrcoef(preds, truth, num_classes=2)"
   ]
  },
  {
   "cell_type": "code",
   "execution_count": 73,
   "id": "e4be104f-b921-4ed3-8245-c0ac7eebdf68",
   "metadata": {},
   "outputs": [
    {
     "data": {
      "text/plain": [
       "tensor(0.)"
      ]
     },
     "execution_count": 73,
     "metadata": {},
     "output_type": "execute_result"
    }
   ],
   "source": [
    "label_ranking_loss(preds.unsqueeze(1), truth.unsqueeze(1))"
   ]
  },
  {
   "cell_type": "code",
   "execution_count": 74,
   "id": "bdf20f40-0229-48f6-9300-aee6a3c02c67",
   "metadata": {},
   "outputs": [
    {
     "data": {
      "text/plain": [
       "tensor([8274, 1726,    0,    0, 8274])"
      ]
     },
     "execution_count": 74,
     "metadata": {},
     "output_type": "execute_result"
    }
   ],
   "source": [
    "stat_scores(preds, truth)"
   ]
  },
  {
   "cell_type": "code",
   "execution_count": 75,
   "id": "485ec332-ce0e-4b0d-82c7-360b7bdbb66d",
   "metadata": {},
   "outputs": [
    {
     "data": {
      "text/plain": [
       "tensor(0.8274)"
      ]
     },
     "execution_count": 75,
     "metadata": {},
     "output_type": "execute_result"
    }
   ],
   "source": [
    "precision(preds, truth)"
   ]
  },
  {
   "cell_type": "code",
   "execution_count": 76,
   "id": "30982a04-acf5-444b-b171-cee0715490de",
   "metadata": {},
   "outputs": [
    {
     "data": {
      "text/plain": [
       "tensor(0.)"
      ]
     },
     "execution_count": 76,
     "metadata": {},
     "output_type": "execute_result"
    }
   ],
   "source": [
    "specificity(preds, truth)"
   ]
  },
  {
   "cell_type": "code",
   "execution_count": 5,
   "id": "5ab8ce9e-119f-4e56-b879-fc4860571542",
   "metadata": {},
   "outputs": [
    {
     "data": {
      "text/plain": [
       "tensor(0.6124)"
      ]
     },
     "execution_count": 5,
     "metadata": {},
     "output_type": "execute_result"
    }
   ],
   "source": [
    "matthews_corrcoef(torch.tensor([1, 1, 0, 0, 1]), torch.tensor([1, 1, 1, 0, 1]), num_classes=2)"
   ]
  },
  {
   "cell_type": "code",
   "execution_count": 82,
   "id": "9154a214-ba82-465e-a9ef-4171fce66346",
   "metadata": {},
   "outputs": [
    {
     "data": {
      "text/plain": [
       "tensor(0.8000)"
      ]
     },
     "execution_count": 82,
     "metadata": {},
     "output_type": "execute_result"
    }
   ],
   "source": [
    "specificity(torch.tensor([1, 1, 0, 0, 1]), torch.tensor([1, 1, 1, 0, 1]))"
   ]
  },
  {
   "cell_type": "code",
   "execution_count": null,
   "id": "4fd62a4f-a670-4c76-9358-068f000d075e",
   "metadata": {},
   "outputs": [],
   "source": []
  }
 ],
 "metadata": {
  "kernelspec": {
   "display_name": "Python 3 (ipykernel)",
   "language": "python",
   "name": "python3"
  },
  "language_info": {
   "codemirror_mode": {
    "name": "ipython",
    "version": 3
   },
   "file_extension": ".py",
   "mimetype": "text/x-python",
   "name": "python",
   "nbconvert_exporter": "python",
   "pygments_lexer": "ipython3",
   "version": "3.9.13"
  }
 },
 "nbformat": 4,
 "nbformat_minor": 5
}
