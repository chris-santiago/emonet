{
 "cells": [
  {
   "cell_type": "code",
   "execution_count": 1,
   "id": "697bc9bc-8793-4efc-be71-6b93871ab5ec",
   "metadata": {},
   "outputs": [],
   "source": [
    "import pandas as pd\n",
    "\n",
    "from emonet import DATA_DIR\n",
    "from emonet.utils import from_json"
   ]
  },
  {
   "cell_type": "code",
   "execution_count": 2,
   "id": "bf30ba60-97c5-4c1c-b3f6-1c02cad1b460",
   "metadata": {},
   "outputs": [],
   "source": [
    "DATASETS = ['train', 'valid', 'test']"
   ]
  },
  {
   "cell_type": "code",
   "execution_count": 3,
   "id": "12d43cb6-72f7-40ef-a8cf-68c9d67ae4d8",
   "metadata": {},
   "outputs": [],
   "source": [
    "manifests = {}\n",
    "for ds in DATASETS:\n",
    "    manifests[ds] = from_json(DATA_DIR.joinpath(f'{ds}.json'))"
   ]
  },
  {
   "cell_type": "code",
   "execution_count": 9,
   "id": "a701f6a3-b14a-40bb-8b20-0d86a761ce75",
   "metadata": {},
   "outputs": [],
   "source": [
    "scores = {}\n",
    "for ds in DATASETS:\n",
    "    scores[ds] = [x['avg_score'] for x in manifests[ds].values()]"
   ]
  },
  {
   "cell_type": "code",
   "execution_count": 10,
   "id": "11eb5c1b-2739-465e-9544-e4aaa400fb3f",
   "metadata": {},
   "outputs": [],
   "source": [
    "tables = {}\n",
    "for ds in DATASETS:\n",
    "    tables[ds] = pd.DataFrame.from_records(scores[ds])"
   ]
  },
  {
   "cell_type": "code",
   "execution_count": 39,
   "id": "c7804b5c-0a3f-48a1-8cdb-c1f4f3566fa1",
   "metadata": {},
   "outputs": [
    {
     "data": {
      "text/plain": [
       "anger      0.839226\n",
       "fear       1.416667\n",
       "sadness    1.761785\n",
       "dtype: float64"
      ]
     },
     "execution_count": 39,
     "metadata": {},
     "output_type": "execute_result"
    }
   ],
   "source": [
    "tables['valid'].mean()"
   ]
  },
  {
   "cell_type": "code",
   "execution_count": 43,
   "id": "4fc512bd-ccb6-4c82-aedf-42825f2372fe",
   "metadata": {},
   "outputs": [
    {
     "name": "stdout",
     "output_type": "stream",
     "text": [
      "Avg Score for train set \n",
      "\n",
      "anger      0.872857\n",
      "fear       1.399310\n",
      "sadness    1.688938\n",
      "dtype: float64\n",
      "\n",
      " ---------- \n",
      "\n",
      "Avg Score for valid set \n",
      "\n",
      "anger      0.839226\n",
      "fear       1.416667\n",
      "sadness    1.761785\n",
      "dtype: float64\n",
      "\n",
      " ---------- \n",
      "\n",
      "Avg Score for test set \n",
      "\n",
      "anger      0.917492\n",
      "fear       1.471947\n",
      "sadness    1.731848\n",
      "dtype: float64\n",
      "\n",
      " ---------- \n",
      "\n"
     ]
    }
   ],
   "source": [
    "for ds in DATASETS:\n",
    "    print(f'Avg Score for {ds} set \\n')\n",
    "    print(tables[ds].mean())\n",
    "    print('\\n ---------- \\n')"
   ]
  },
  {
   "cell_type": "code",
   "execution_count": null,
   "id": "5d246507-9f16-4ff9-8c9d-28290eec307a",
   "metadata": {},
   "outputs": [],
   "source": []
  }
 ],
 "metadata": {
  "kernelspec": {
   "display_name": "Python 3 (ipykernel)",
   "language": "python",
   "name": "python3"
  },
  "language_info": {
   "codemirror_mode": {
    "name": "ipython",
    "version": 3
   },
   "file_extension": ".py",
   "mimetype": "text/x-python",
   "name": "python",
   "nbconvert_exporter": "python",
   "pygments_lexer": "ipython3",
   "version": "3.9.13"
  }
 },
 "nbformat": 4,
 "nbformat_minor": 5
}
